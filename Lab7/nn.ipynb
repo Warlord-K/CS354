{
 "cells": [
  {
   "cell_type": "code",
   "execution_count": 1,
   "metadata": {},
   "outputs": [],
   "source": [
    "import pandas as pd\n",
    "import numpy as np\n",
    "\n",
    "e = 1e1\n",
    "\n",
    "def sigmoid(x, grad = True):\n",
    "    value = 1/(1 + np.exp(-1*x)) \n",
    "    if grad:\n",
    "        grad = value*(1-value)\n",
    "        return value, grad \n",
    "    return value\n",
    "\n",
    "class Perceptron:\n",
    "    def __init__(self, input_shape, output_shape, activation = sigmoid):\n",
    "        self.weight = np.random.normal(size=(input_shape, output_shape))\n",
    "        self.activation = activation\n",
    "    \n",
    "    def __call__(self, inp, grad):\n",
    "        output = self.weight.T @ inp \n",
    "        if grad:\n",
    "            output, grad = self.activation(output, grad)\n",
    "            return output, grad\n",
    "        output = self.activation(output, grad)\n",
    "        return output\n",
    "\n",
    "\n",
    "class NeuralNet:\n",
    "    def __init__(self, input_shape, output_shape, num_hidden_layers, num_hidden_neurons):\n",
    "        assert num_hidden_layers > 0, \"There should be at least one hidden layer\"\n",
    "        if type(num_hidden_neurons) != list:\n",
    "            num_hidden_neurons = [num_hidden_neurons] * num_hidden_layers\n",
    "        assert num_hidden_layers == len(num_hidden_neurons), \"The Number of Hidden Neurons should be in Number of Hidden Layers\"\n",
    "        self.layers = [Perceptron(input_shape, num_hidden_neurons[0])]\n",
    "        for i in range(num_hidden_layers-1):\n",
    "            self.layers.append(Perceptron(num_hidden_neurons[i], num_hidden_neurons[i+1]))\n",
    "        self.layers.append(Perceptron(num_hidden_neurons[-1], output_shape))\n",
    "        self.grad = True\n",
    "    \n",
    "    def __call__(self, input):\n",
    "        self.inputs = [input]\n",
    "        self.gradients = []\n",
    "        output, grad = self.layers[0](input, self.grad)\n",
    "        self.gradients.append(grad)\n",
    "        for layer in self.layers[1:]:\n",
    "            self.inputs.append(output)\n",
    "            output, grad = layer(output, self.grad)\n",
    "            self.gradients.append(grad)\n",
    "        return output\n",
    "    \n",
    "    def update_weights(self, grad_loss):\n",
    "        grad = self.gradients[-1] * grad_loss\n",
    "        self.layers[-1].weight -= grad * np.expand_dims(self.inputs[-1], axis=-1)\n",
    "        for i in range(len(self.layers)-1)[::-1]:\n",
    "            grad = np.expand_dims(self.gradients[i], axis=-1) * self.layers[i+1].weight @ grad            \n",
    "            self.layers[i].weight -= self.lr * np.expand_dims(self.inputs[i], axis=-1) @ np.expand_dims(grad, axis=-1).T \n",
    "\n",
    "    def train(self, X_train, y_train, X_test, y_test, learning_rate, n_epochs, logging_epochs = 10, validation_epochs = 100):\n",
    "        validation_epochs = min(validation_epochs, n_epochs)\n",
    "        self.lr = learning_rate\n",
    "        for current_epoch in range(0, n_epochs + 1):\n",
    "            total_loss = 0\n",
    "            train_accuracy = 0\n",
    "            for x, y in zip(X_train, y_train):\n",
    "                pred = self(x)\n",
    "                loss, grad_loss = MSELoss(pred, y)\n",
    "                total_loss += loss\n",
    "                train_accuracy += (y == (pred>=0.5))\n",
    "                self.update_weights(grad_loss)\n",
    "            if current_epoch % logging_epochs == 0:\n",
    "                print(\"\\nEpoch: \", current_epoch, \"\\nLoss: \", total_loss/len(X_train), \"\\nTrain Accuracy: \", train_accuracy/len(X_train))\n",
    "            if current_epoch % validation_epochs == 0:\n",
    "                val_loss = 0\n",
    "                val_accuracy = 0\n",
    "                for x, y in zip(X_test, y_test):\n",
    "                    pred = self(x)\n",
    "                    loss, _ = MSELoss(pred, y)\n",
    "                    val_loss += loss/len(X_test)\n",
    "                    val_accuracy += (y == (pred>=0.5))\n",
    "                print(\"Validation Loss: \", total_loss/len(X_test), \"\\nValidation Accuracy: \", val_accuracy/len(X_test))\n",
    "        print(\"\\nTraining Finished!\")\n",
    "        print(\"Epoch: \", current_epoch, \"\\nLoss: \", total_loss/len(X_train), \"\\nTrain Accuracy: \", train_accuracy/len(X_train))\n",
    "        val_loss = 0\n",
    "        val_accuracy = 0\n",
    "        for x, y in zip(X_test, y_test):\n",
    "            pred = self(x)\n",
    "            loss, _ = MSELoss(pred, y)\n",
    "            val_loss += loss/len(X_test)\n",
    "            val_accuracy += (y == (pred>=0.5))\n",
    "        print(\"Validation Loss: \", total_loss/len(X_test), \"\\nValidation Accuracy: \", val_accuracy/len(X_test))\n",
    "\n",
    "def MSELoss(prediction, truth):\n",
    "    loss = 0.5 * (prediction - truth) ** 2\n",
    "    grad = prediction - truth\n",
    "    return loss, grad"
   ]
  },
  {
   "cell_type": "markdown",
   "metadata": {},
   "source": [
    "# Q1"
   ]
  },
  {
   "cell_type": "code",
   "execution_count": 16,
   "metadata": {},
   "outputs": [
    {
     "name": "stdout",
     "output_type": "stream",
     "text": [
      "\n",
      "Epoch:  0 \n",
      "Loss:  [0.10456875] \n",
      "Train Accuracy:  [0.6998672]\n",
      "Validation Loss:  [0.21691533] \n",
      "Validation Accuracy:  [0.71349862]\n",
      "\n",
      "Epoch:  300 \n",
      "Loss:  [0.01834755] \n",
      "Train Accuracy:  [0.96148738]\n",
      "Validation Loss:  [0.0380598] \n",
      "Validation Accuracy:  [0.8815427]\n",
      "\n",
      "Epoch:  600 \n",
      "Loss:  [0.01837459] \n",
      "Train Accuracy:  [0.96015936]\n",
      "Validation Loss:  [0.03811589] \n",
      "Validation Accuracy:  [0.8815427]\n",
      "\n",
      "Epoch:  900 \n",
      "Loss:  [0.01842293] \n",
      "Train Accuracy:  [0.96015936]\n",
      "Validation Loss:  [0.03821616] \n",
      "Validation Accuracy:  [0.88429752]\n",
      "\n",
      "Training Finished!\n",
      "Epoch:  1000 \n",
      "Loss:  [0.01779644] \n",
      "Train Accuracy:  [0.96281541]\n",
      "Validation Loss:  [0.03691659] \n",
      "Validation Accuracy:  [0.88429752]\n"
     ]
    }
   ],
   "source": [
    "X_train = pd.read_csv(\"trainData.csv\", header=None).to_numpy()\n",
    "y_train = pd.read_csv(\"trainLabels.csv\", header=None).to_numpy()\n",
    "X_test = pd.read_csv(\"testData.csv\", header=None).to_numpy()\n",
    "y_test = pd.read_csv(\"testLabels.csv\", header=None).to_numpy()\n",
    "nn = NeuralNet(64, 1, 1, 15)\n",
    "nn.train(X_train, y_train - 5, X_test, y_test - 5, 0.01, 1000, 300, 300)"
   ]
  },
  {
   "cell_type": "code",
   "execution_count": 17,
   "metadata": {},
   "outputs": [
    {
     "name": "stdout",
     "output_type": "stream",
     "text": [
      "\n",
      "Epoch:  0 \n",
      "Loss:  [0.13721985] \n",
      "Train Accuracy:  [0.52855246]\n",
      "Validation Loss:  [0.28464613] \n",
      "Validation Accuracy:  [0.50413223]\n",
      "\n",
      "Epoch:  300 \n",
      "Loss:  [0.02247391] \n",
      "Train Accuracy:  [0.94555113]\n",
      "Validation Loss:  [0.04661943] \n",
      "Validation Accuracy:  [0.90358127]\n",
      "\n",
      "Epoch:  600 \n",
      "Loss:  [0.01824408] \n",
      "Train Accuracy:  [0.95484728]\n",
      "Validation Loss:  [0.03784516] \n",
      "Validation Accuracy:  [0.92011019]\n",
      "\n",
      "Epoch:  900 \n",
      "Loss:  [0.01721666] \n",
      "Train Accuracy:  [0.95484728]\n",
      "Validation Loss:  [0.0357139] \n",
      "Validation Accuracy:  [0.92011019]\n",
      "\n",
      "Training Finished!\n",
      "Epoch:  1000 \n",
      "Loss:  [0.01376572] \n",
      "Train Accuracy:  [0.96148738]\n",
      "Validation Loss:  [0.02855534] \n",
      "Validation Accuracy:  [0.93112948]\n"
     ]
    }
   ],
   "source": [
    "nn = NeuralNet(64, 1, 1, 5)\n",
    "nn.train(X_train, y_train - 5, X_test, y_test - 5, 0.01, 1000, 300, 300)"
   ]
  },
  {
   "cell_type": "code",
   "execution_count": 18,
   "metadata": {},
   "outputs": [
    {
     "name": "stdout",
     "output_type": "stream",
     "text": [
      "\n",
      "Epoch:  0 \n",
      "Loss:  [0.12766984] \n",
      "Train Accuracy:  [0.53652058]\n",
      "Validation Loss:  [0.26483579] \n",
      "Validation Accuracy:  [0.49311295]\n",
      "\n",
      "Epoch:  300 \n",
      "Loss:  [0.086998] \n",
      "Train Accuracy:  [0.74236388]\n",
      "Validation Loss:  [0.18046692] \n",
      "Validation Accuracy:  [0.69421488]\n",
      "\n",
      "Epoch:  600 \n",
      "Loss:  [0.05321668] \n",
      "Train Accuracy:  [0.85258964]\n",
      "Validation Loss:  [0.11039163] \n",
      "Validation Accuracy:  [0.79889807]\n",
      "\n",
      "Epoch:  900 \n",
      "Loss:  [0.04466667] \n",
      "Train Accuracy:  [0.88579017]\n",
      "Validation Loss:  [0.09265565] \n",
      "Validation Accuracy:  [0.84297521]\n",
      "\n",
      "Training Finished!\n",
      "Epoch:  1000 \n",
      "Loss:  [0.04367172] \n",
      "Train Accuracy:  [0.88446215]\n",
      "Validation Loss:  [0.09059175] \n",
      "Validation Accuracy:  [0.84848485]\n"
     ]
    }
   ],
   "source": [
    "nn = NeuralNet(64, 1, 1, 5)\n",
    "nn.train(X_train, y_train - 5, X_test, y_test - 5, 0.001, 1000, 300, 300)"
   ]
  },
  {
   "cell_type": "code",
   "execution_count": 19,
   "metadata": {},
   "outputs": [
    {
     "name": "stdout",
     "output_type": "stream",
     "text": [
      "\n",
      "Epoch:  0 \n",
      "Loss:  [0.13153826] \n",
      "Train Accuracy:  [0.63081009]\n",
      "Validation Loss:  [0.27286036] \n",
      "Validation Accuracy:  [0.75757576]\n",
      "\n",
      "Epoch:  300 \n",
      "Loss:  [0.05511808] \n",
      "Train Accuracy:  [0.87383798]\n",
      "Validation Loss:  [0.11433585] \n",
      "Validation Accuracy:  [0.83746556]\n",
      "\n",
      "Epoch:  600 \n",
      "Loss:  [0.0384547] \n",
      "Train Accuracy:  [0.92297477]\n",
      "Validation Loss:  [0.07976967] \n",
      "Validation Accuracy:  [0.83471074]\n",
      "\n",
      "Epoch:  900 \n",
      "Loss:  [0.03241347] \n",
      "Train Accuracy:  [0.93359894]\n",
      "Validation Loss:  [0.06723786] \n",
      "Validation Accuracy:  [0.84022039]\n",
      "\n",
      "Training Finished!\n",
      "Epoch:  1000 \n",
      "Loss:  [0.03116379] \n",
      "Train Accuracy:  [0.93625498]\n",
      "Validation Loss:  [0.06464555] \n",
      "Validation Accuracy:  [0.83746556]\n"
     ]
    }
   ],
   "source": [
    "nn = NeuralNet(64, 1, 1, 15)\n",
    "nn.train(X_train, y_train - 5, X_test, y_test - 5, 0.001, 1000, 300, 300)"
   ]
  },
  {
   "cell_type": "markdown",
   "metadata": {},
   "source": [
    "# Q2"
   ]
  },
  {
   "cell_type": "code",
   "execution_count": 3,
   "metadata": {},
   "outputs": [
    {
     "data": {
      "text/plain": [
       "Index(['sepal.length', 'sepal.width', 'petal.length', 'petal.width',\n",
       "       'variety'],\n",
       "      dtype='object')"
      ]
     },
     "execution_count": 3,
     "metadata": {},
     "output_type": "execute_result"
    }
   ],
   "source": [
    "data = pd.read_csv(\"iris.csv\")\n",
    "data.columns"
   ]
  },
  {
   "cell_type": "code",
   "execution_count": 4,
   "metadata": {},
   "outputs": [
    {
     "data": {
      "text/html": [
       "<div>\n",
       "<style scoped>\n",
       "    .dataframe tbody tr th:only-of-type {\n",
       "        vertical-align: middle;\n",
       "    }\n",
       "\n",
       "    .dataframe tbody tr th {\n",
       "        vertical-align: top;\n",
       "    }\n",
       "\n",
       "    .dataframe thead th {\n",
       "        text-align: right;\n",
       "    }\n",
       "</style>\n",
       "<table border=\"1\" class=\"dataframe\">\n",
       "  <thead>\n",
       "    <tr style=\"text-align: right;\">\n",
       "      <th></th>\n",
       "      <th>sepal.length</th>\n",
       "      <th>sepal.width</th>\n",
       "      <th>petal.length</th>\n",
       "      <th>petal.width</th>\n",
       "      <th>variety</th>\n",
       "    </tr>\n",
       "  </thead>\n",
       "  <tbody>\n",
       "    <tr>\n",
       "      <th>0</th>\n",
       "      <td>5.1</td>\n",
       "      <td>3.5</td>\n",
       "      <td>1.4</td>\n",
       "      <td>0.2</td>\n",
       "      <td>Setosa</td>\n",
       "    </tr>\n",
       "    <tr>\n",
       "      <th>1</th>\n",
       "      <td>4.9</td>\n",
       "      <td>3.0</td>\n",
       "      <td>1.4</td>\n",
       "      <td>0.2</td>\n",
       "      <td>Setosa</td>\n",
       "    </tr>\n",
       "    <tr>\n",
       "      <th>2</th>\n",
       "      <td>4.7</td>\n",
       "      <td>3.2</td>\n",
       "      <td>1.3</td>\n",
       "      <td>0.2</td>\n",
       "      <td>Setosa</td>\n",
       "    </tr>\n",
       "    <tr>\n",
       "      <th>3</th>\n",
       "      <td>4.6</td>\n",
       "      <td>3.1</td>\n",
       "      <td>1.5</td>\n",
       "      <td>0.2</td>\n",
       "      <td>Setosa</td>\n",
       "    </tr>\n",
       "    <tr>\n",
       "      <th>4</th>\n",
       "      <td>5.0</td>\n",
       "      <td>3.6</td>\n",
       "      <td>1.4</td>\n",
       "      <td>0.2</td>\n",
       "      <td>Setosa</td>\n",
       "    </tr>\n",
       "  </tbody>\n",
       "</table>\n",
       "</div>"
      ],
      "text/plain": [
       "   sepal.length  sepal.width  petal.length  petal.width variety\n",
       "0           5.1          3.5           1.4          0.2  Setosa\n",
       "1           4.9          3.0           1.4          0.2  Setosa\n",
       "2           4.7          3.2           1.3          0.2  Setosa\n",
       "3           4.6          3.1           1.5          0.2  Setosa\n",
       "4           5.0          3.6           1.4          0.2  Setosa"
      ]
     },
     "execution_count": 4,
     "metadata": {},
     "output_type": "execute_result"
    }
   ],
   "source": [
    "data.head()"
   ]
  },
  {
   "cell_type": "code",
   "execution_count": 5,
   "metadata": {},
   "outputs": [
    {
     "data": {
      "text/plain": [
       "array(['Setosa', 'Versicolor'], dtype=object)"
      ]
     },
     "execution_count": 5,
     "metadata": {},
     "output_type": "execute_result"
    }
   ],
   "source": [
    "data.variety.unique()"
   ]
  },
  {
   "cell_type": "code",
   "execution_count": 6,
   "metadata": {},
   "outputs": [],
   "source": [
    "def convert(x):\n",
    "    values = [\"Setosa\", \"Versicolor\"]\n",
    "    return values.index(x)\n",
    "\n",
    "data[\"variety\"] = data[\"variety\"].apply(convert)"
   ]
  },
  {
   "cell_type": "code",
   "execution_count": 7,
   "metadata": {},
   "outputs": [
    {
     "data": {
      "text/html": [
       "<div>\n",
       "<style scoped>\n",
       "    .dataframe tbody tr th:only-of-type {\n",
       "        vertical-align: middle;\n",
       "    }\n",
       "\n",
       "    .dataframe tbody tr th {\n",
       "        vertical-align: top;\n",
       "    }\n",
       "\n",
       "    .dataframe thead th {\n",
       "        text-align: right;\n",
       "    }\n",
       "</style>\n",
       "<table border=\"1\" class=\"dataframe\">\n",
       "  <thead>\n",
       "    <tr style=\"text-align: right;\">\n",
       "      <th></th>\n",
       "      <th>sepal.length</th>\n",
       "      <th>sepal.width</th>\n",
       "      <th>petal.length</th>\n",
       "      <th>petal.width</th>\n",
       "      <th>variety</th>\n",
       "    </tr>\n",
       "  </thead>\n",
       "  <tbody>\n",
       "    <tr>\n",
       "      <th>0</th>\n",
       "      <td>5.1</td>\n",
       "      <td>3.5</td>\n",
       "      <td>1.4</td>\n",
       "      <td>0.2</td>\n",
       "      <td>0</td>\n",
       "    </tr>\n",
       "    <tr>\n",
       "      <th>1</th>\n",
       "      <td>4.9</td>\n",
       "      <td>3.0</td>\n",
       "      <td>1.4</td>\n",
       "      <td>0.2</td>\n",
       "      <td>0</td>\n",
       "    </tr>\n",
       "    <tr>\n",
       "      <th>2</th>\n",
       "      <td>4.7</td>\n",
       "      <td>3.2</td>\n",
       "      <td>1.3</td>\n",
       "      <td>0.2</td>\n",
       "      <td>0</td>\n",
       "    </tr>\n",
       "    <tr>\n",
       "      <th>3</th>\n",
       "      <td>4.6</td>\n",
       "      <td>3.1</td>\n",
       "      <td>1.5</td>\n",
       "      <td>0.2</td>\n",
       "      <td>0</td>\n",
       "    </tr>\n",
       "    <tr>\n",
       "      <th>4</th>\n",
       "      <td>5.0</td>\n",
       "      <td>3.6</td>\n",
       "      <td>1.4</td>\n",
       "      <td>0.2</td>\n",
       "      <td>0</td>\n",
       "    </tr>\n",
       "  </tbody>\n",
       "</table>\n",
       "</div>"
      ],
      "text/plain": [
       "   sepal.length  sepal.width  petal.length  petal.width  variety\n",
       "0           5.1          3.5           1.4          0.2        0\n",
       "1           4.9          3.0           1.4          0.2        0\n",
       "2           4.7          3.2           1.3          0.2        0\n",
       "3           4.6          3.1           1.5          0.2        0\n",
       "4           5.0          3.6           1.4          0.2        0"
      ]
     },
     "execution_count": 7,
     "metadata": {},
     "output_type": "execute_result"
    }
   ],
   "source": [
    "data.head()"
   ]
  },
  {
   "cell_type": "code",
   "execution_count": 8,
   "metadata": {},
   "outputs": [
    {
     "data": {
      "text/plain": [
       "100"
      ]
     },
     "execution_count": 8,
     "metadata": {},
     "output_type": "execute_result"
    }
   ],
   "source": [
    "len(data)"
   ]
  },
  {
   "cell_type": "code",
   "execution_count": 9,
   "metadata": {},
   "outputs": [],
   "source": [
    "# Shuffle the Dataset\n",
    "data = data.sample(frac = 1)"
   ]
  },
  {
   "cell_type": "code",
   "execution_count": 10,
   "metadata": {},
   "outputs": [
    {
     "data": {
      "text/html": [
       "<div>\n",
       "<style scoped>\n",
       "    .dataframe tbody tr th:only-of-type {\n",
       "        vertical-align: middle;\n",
       "    }\n",
       "\n",
       "    .dataframe tbody tr th {\n",
       "        vertical-align: top;\n",
       "    }\n",
       "\n",
       "    .dataframe thead th {\n",
       "        text-align: right;\n",
       "    }\n",
       "</style>\n",
       "<table border=\"1\" class=\"dataframe\">\n",
       "  <thead>\n",
       "    <tr style=\"text-align: right;\">\n",
       "      <th></th>\n",
       "      <th>sepal.length</th>\n",
       "      <th>sepal.width</th>\n",
       "      <th>petal.length</th>\n",
       "      <th>petal.width</th>\n",
       "      <th>variety</th>\n",
       "    </tr>\n",
       "  </thead>\n",
       "  <tbody>\n",
       "    <tr>\n",
       "      <th>63</th>\n",
       "      <td>6.1</td>\n",
       "      <td>2.9</td>\n",
       "      <td>4.7</td>\n",
       "      <td>1.4</td>\n",
       "      <td>1</td>\n",
       "    </tr>\n",
       "    <tr>\n",
       "      <th>11</th>\n",
       "      <td>4.8</td>\n",
       "      <td>3.4</td>\n",
       "      <td>1.6</td>\n",
       "      <td>0.2</td>\n",
       "      <td>0</td>\n",
       "    </tr>\n",
       "    <tr>\n",
       "      <th>62</th>\n",
       "      <td>6.0</td>\n",
       "      <td>2.2</td>\n",
       "      <td>4.0</td>\n",
       "      <td>1.0</td>\n",
       "      <td>1</td>\n",
       "    </tr>\n",
       "    <tr>\n",
       "      <th>23</th>\n",
       "      <td>5.1</td>\n",
       "      <td>3.3</td>\n",
       "      <td>1.7</td>\n",
       "      <td>0.5</td>\n",
       "      <td>0</td>\n",
       "    </tr>\n",
       "    <tr>\n",
       "      <th>75</th>\n",
       "      <td>6.6</td>\n",
       "      <td>3.0</td>\n",
       "      <td>4.4</td>\n",
       "      <td>1.4</td>\n",
       "      <td>1</td>\n",
       "    </tr>\n",
       "  </tbody>\n",
       "</table>\n",
       "</div>"
      ],
      "text/plain": [
       "    sepal.length  sepal.width  petal.length  petal.width  variety\n",
       "63           6.1          2.9           4.7          1.4        1\n",
       "11           4.8          3.4           1.6          0.2        0\n",
       "62           6.0          2.2           4.0          1.0        1\n",
       "23           5.1          3.3           1.7          0.5        0\n",
       "75           6.6          3.0           4.4          1.4        1"
      ]
     },
     "execution_count": 10,
     "metadata": {},
     "output_type": "execute_result"
    }
   ],
   "source": [
    "data.head()"
   ]
  },
  {
   "cell_type": "code",
   "execution_count": 11,
   "metadata": {},
   "outputs": [],
   "source": [
    "np_data = data.to_numpy()"
   ]
  },
  {
   "cell_type": "code",
   "execution_count": 12,
   "metadata": {},
   "outputs": [],
   "source": [
    "size = len(np_data)\n",
    "fraction = 0.8\n",
    "train_data = np_data[:int(fraction*size)]\n",
    "test_data = np_data[int(fraction*size):]"
   ]
  },
  {
   "cell_type": "code",
   "execution_count": 13,
   "metadata": {},
   "outputs": [],
   "source": [
    "X_train, y_train = train_data[:,:-1], train_data[:,-1]\n",
    "X_test, y_test = test_data[:,:-1], test_data[:,-1]"
   ]
  },
  {
   "cell_type": "code",
   "execution_count": 14,
   "metadata": {},
   "outputs": [
    {
     "data": {
      "text/plain": [
       "((100, 5), (80, 5), (20, 5))"
      ]
     },
     "execution_count": 14,
     "metadata": {},
     "output_type": "execute_result"
    }
   ],
   "source": [
    "np_data.shape, train_data.shape, test_data.shape"
   ]
  },
  {
   "cell_type": "code",
   "execution_count": 15,
   "metadata": {},
   "outputs": [
    {
     "name": "stdout",
     "output_type": "stream",
     "text": [
      "\n",
      "Epoch:  0 \n",
      "Loss:  [0.11757197] \n",
      "Train Accuracy:  [0.5625]\n",
      "Validation Loss:  [0.47028786] \n",
      "Validation Accuracy:  [0.45]\n",
      "\n",
      "Epoch:  300 \n",
      "Loss:  [0.00055898] \n",
      "Train Accuracy:  [1.]\n",
      "Validation Loss:  [0.00223592] \n",
      "Validation Accuracy:  [1.]\n",
      "\n",
      "Epoch:  600 \n",
      "Loss:  [0.0002325] \n",
      "Train Accuracy:  [1.]\n",
      "Validation Loss:  [0.00092999] \n",
      "Validation Accuracy:  [1.]\n",
      "\n",
      "Epoch:  900 \n",
      "Loss:  [0.00014268] \n",
      "Train Accuracy:  [1.]\n",
      "Validation Loss:  [0.0005707] \n",
      "Validation Accuracy:  [1.]\n",
      "\n",
      "Training Finished!\n",
      "Epoch:  1000 \n",
      "Loss:  [0.00012597] \n",
      "Train Accuracy:  [1.]\n",
      "Validation Loss:  [0.00050389] \n",
      "Validation Accuracy:  [1.]\n"
     ]
    }
   ],
   "source": [
    "nn = NeuralNet(4, 1, num_hidden_layers = 3, num_hidden_neurons = [4,8,4])\n",
    "nn.train(X_train, y_train, X_test, y_test, 0.001, 1000, 300, 300)"
   ]
  }
 ],
 "metadata": {
  "kernelspec": {
   "display_name": "deep",
   "language": "python",
   "name": "python3"
  },
  "language_info": {
   "codemirror_mode": {
    "name": "ipython",
    "version": 3
   },
   "file_extension": ".py",
   "mimetype": "text/x-python",
   "name": "python",
   "nbconvert_exporter": "python",
   "pygments_lexer": "ipython3",
   "version": "3.9.15"
  }
 },
 "nbformat": 4,
 "nbformat_minor": 2
}
