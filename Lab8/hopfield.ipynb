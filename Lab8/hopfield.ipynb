{
 "cells": [
  {
   "cell_type": "code",
   "execution_count": 1,
   "metadata": {},
   "outputs": [],
   "source": [
    "import numpy as np\n",
    "\n",
    "class HopfieldNN:\n",
    "    def __init__(self, data, activation, threshold = 0):\n",
    "        self.threshold = threshold\n",
    "        self.act = activation\n",
    "        self.weights = data.T@data\n",
    "        for i in range(len(self.weights)):\n",
    "            self.weights[i,i] = 0\n",
    "    \n",
    "    def __call__(self, pattern, update_order = [1,4,3,2]):\n",
    "        if not update_order:\n",
    "            update_order = [i for i in range(len(pattern))]\n",
    "        change = True\n",
    "        state = pattern\n",
    "        it = 0\n",
    "        while change:\n",
    "            it += 1\n",
    "            change = False\n",
    "            for i in update_order:\n",
    "                i -= 1\n",
    "                state[i] = self.weights[i]@state + pattern[i] - self.threshold\n",
    "                state[i] = self.act(state[i])\n",
    "                if state[i] - pattern[i]:\n",
    "                    change = True\n",
    "        print(f\"Done in {it} iterations\")\n",
    "        return state\n",
    "    \n",
    "def sign(n):\n",
    "    if n > 0:\n",
    "        return 1\n",
    "    if n < 0:\n",
    "        return -1\n",
    "    return 0"
   ]
  },
  {
   "cell_type": "code",
   "execution_count": 2,
   "metadata": {},
   "outputs": [],
   "source": [
    "data = np.array([\n",
    "    [1,1,1,1],\n",
    "    [1,1,-1,-1]\n",
    "])\n",
    "\n",
    "hnn = HopfieldNN(data, sign, 0)"
   ]
  },
  {
   "cell_type": "code",
   "execution_count": 3,
   "metadata": {},
   "outputs": [
    {
     "name": "stdout",
     "output_type": "stream",
     "text": [
      "Done in 1 iterations\n"
     ]
    },
    {
     "data": {
      "text/plain": [
       "[1, 1, 1, 1]"
      ]
     },
     "execution_count": 3,
     "metadata": {},
     "output_type": "execute_result"
    }
   ],
   "source": [
    "hnn([1,1,1,1])"
   ]
  },
  {
   "cell_type": "code",
   "execution_count": 4,
   "metadata": {},
   "outputs": [
    {
     "name": "stdout",
     "output_type": "stream",
     "text": [
      "Done in 1 iterations\n"
     ]
    },
    {
     "data": {
      "text/plain": [
       "[1, 1, -1, -1]"
      ]
     },
     "execution_count": 4,
     "metadata": {},
     "output_type": "execute_result"
    }
   ],
   "source": [
    "hnn([1,1,-1,-1])"
   ]
  },
  {
   "cell_type": "code",
   "execution_count": 5,
   "metadata": {},
   "outputs": [
    {
     "name": "stdout",
     "output_type": "stream",
     "text": [
      "Done in 1 iterations\n"
     ]
    },
    {
     "data": {
      "text/plain": [
       "[1, 1, 1, 1]"
      ]
     },
     "execution_count": 5,
     "metadata": {},
     "output_type": "execute_result"
    }
   ],
   "source": [
    "hnn([1,1,1,0])"
   ]
  }
 ],
 "metadata": {
  "kernelspec": {
   "display_name": "deep",
   "language": "python",
   "name": "python3"
  },
  "language_info": {
   "codemirror_mode": {
    "name": "ipython",
    "version": 3
   },
   "file_extension": ".py",
   "mimetype": "text/x-python",
   "name": "python",
   "nbconvert_exporter": "python",
   "pygments_lexer": "ipython3",
   "version": "3.9.15"
  }
 },
 "nbformat": 4,
 "nbformat_minor": 2
}
